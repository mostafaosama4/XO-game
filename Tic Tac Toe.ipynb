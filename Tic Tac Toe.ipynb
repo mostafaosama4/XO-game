{
 "cells": [
  {
   "cell_type": "code",
   "execution_count": 200,
   "id": "51236ed1",
   "metadata": {},
   "outputs": [],
   "source": [
    "XOboard = [['' for _ in range(3)] for _ in range(3)]"
   ]
  },
  {
   "cell_type": "code",
   "execution_count": 201,
   "id": "2c510a87",
   "metadata": {},
   "outputs": [],
   "source": [
    "def print_board(board):\n",
    "    for row in board:\n",
    "        print(' | '.join(row))"
   ]
  },
  {
   "cell_type": "code",
   "execution_count": 202,
   "id": "23a4bf63",
   "metadata": {},
   "outputs": [],
   "source": [
    "def check_win(board, player_symbol):\n",
    "    check_row = lambda r: all(square == player_symbol for square in r)\n",
    "    check_col = lambda c: all(board[r][c] == player_symbol for r in range(3))\n",
    "    \n",
    "\n",
    "    if any(map(check_row, board)) or any(map(check_col, range(3))):\n",
    "        return True\n",
    "    \n",
    "    if all(board[i][i] == player_symbol for i in range(3)) or all(board[i][2 - i] == player_symbol for i in range(3)):\n",
    "        return True\n",
    "    \n",
    "    return False"
   ]
  },
  {
   "cell_type": "code",
   "execution_count": 203,
   "id": "9cf8ca50",
   "metadata": {},
   "outputs": [],
   "source": [
    "def check_tie(board):\n",
    "    return all(all(square != '' for square in row) for row in board)"
   ]
  },
  {
   "cell_type": "code",
   "execution_count": 204,
   "id": "43eb24c3",
   "metadata": {},
   "outputs": [
    {
     "name": "stdout",
     "output_type": "stream",
     "text": [
      " |  | \n",
      " |  | \n",
      " |  | \n",
      "Player X, please choose a row and a column: 1 2\n",
      " |  | \n",
      " |  | X\n",
      " |  | \n",
      "Player O, please choose a row and a column: 1 2\n",
      "it can not be replaced\n",
      "Player O, please choose a row and a column: 2 1\n",
      " |  | \n",
      " |  | X\n",
      " | O | \n",
      "Player X, please choose a row and a column: 2 2\n",
      " |  | \n",
      " |  | X\n",
      " | O | X\n",
      "Player O, please choose a row and a column: 0 2\n",
      " |  | O\n",
      " |  | X\n",
      " | O | X\n",
      "Player X, please choose a row and a column: 0 2\n",
      "it can not be replaced\n",
      "Player X, please choose a row and a column: 0 0\n",
      "X |  | O\n",
      " |  | X\n",
      " | O | X\n",
      "Player O, please choose a row and a column: 1 1\n",
      "X |  | O\n",
      " | O | X\n",
      " | O | X\n",
      "Player X, please choose a row and a column: 2 0\n",
      "X |  | O\n",
      " | O | X\n",
      "X | O | X\n",
      "Player O, please choose a row and a column: 2 0\n",
      "it can not be replaced\n",
      "Player O, please choose a row and a column: 0 1\n",
      "X | O | O\n",
      " | O | X\n",
      "X | O | X\n",
      "Player O won the game.\n"
     ]
    }
   ],
   "source": [
    "current_player = 'X'\n",
    "flag=1\n",
    "flag2=0\n",
    "player_input=0\n",
    "while True:\n",
    "    if flag == 1:\n",
    "        while flag == 1:\n",
    "            print_board(XOboard)\n",
    "            #row, col = get_move(current_player)\n",
    "            \n",
    "            while player_input == 0:\n",
    "                row, col = map(int, input(f\"Player {current_player}, please choose a row and a column: \").split())\n",
    "                if row >= 0 and row <=2 and col >=0 and col <=2:\n",
    "                    player_input = 1\n",
    "                if player_input == 1 and XOboard[row][col] != '':\n",
    "                    print('it can not be replaced')\n",
    "                    player_input = 0\n",
    "                elif player_input == 1 and XOboard[row][col] == '':\n",
    "                    XOboard[row][col] = current_player\n",
    "                    flag = 0\n",
    "                    break\n",
    "            #if game_board[row][col] != '':\n",
    "               # print('it can not be replaced')\n",
    "            #else:\n",
    "                \n",
    "            if flag == 0:\n",
    "                break              \n",
    "    \n",
    "    if check_win(XOboard, current_player):\n",
    "        print_board(XOboard)\n",
    "        print(f\"Player {current_player} won the game.\")\n",
    "        break\n",
    "    elif check_tie(XOboard):\n",
    "        print_board(XOboard)\n",
    "        print(\"the game is tie!\")\n",
    "        break\n",
    "    \n",
    "    if current_player == 'X':\n",
    "        current_player = 'O' \n",
    "        flag = 1\n",
    "        player_input = 0\n",
    "    else:\n",
    "        current_player = 'X'\n",
    "        flag = 1\n",
    "        player_input = 0"
   ]
  },
  {
   "cell_type": "code",
   "execution_count": null,
   "id": "b2971a32",
   "metadata": {},
   "outputs": [],
   "source": []
  }
 ],
 "metadata": {
  "kernelspec": {
   "display_name": "Python 3 (ipykernel)",
   "language": "python",
   "name": "python3"
  },
  "language_info": {
   "codemirror_mode": {
    "name": "ipython",
    "version": 3
   },
   "file_extension": ".py",
   "mimetype": "text/x-python",
   "name": "python",
   "nbconvert_exporter": "python",
   "pygments_lexer": "ipython3",
   "version": "3.9.7"
  }
 },
 "nbformat": 4,
 "nbformat_minor": 5
}
